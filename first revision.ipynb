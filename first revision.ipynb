{
 "cells": [
  {
   "cell_type": "code",
   "execution_count": 2,
   "id": "9ad4e313",
   "metadata": {},
   "outputs": [
    {
     "data": {
      "text/plain": [
       "3"
      ]
     },
     "execution_count": 2,
     "metadata": {},
     "output_type": "execute_result"
    }
   ],
   "source": [
    "1+2"
   ]
  },
  {
   "cell_type": "code",
   "execution_count": 5,
   "id": "abed5cbc",
   "metadata": {},
   "outputs": [
    {
     "name": "stdout",
     "output_type": "stream",
     "text": [
      "admin panel\n"
     ]
    }
   ],
   "source": [
    "print(\"admin panel\")"
   ]
  },
  {
   "cell_type": "code",
   "execution_count": 9,
   "id": "28c18e7b",
   "metadata": {},
   "outputs": [],
   "source": [
    "a=10"
   ]
  },
  {
   "cell_type": "code",
   "execution_count": 10,
   "id": "abee81ea",
   "metadata": {},
   "outputs": [
    {
     "data": {
      "text/plain": [
       "10"
      ]
     },
     "execution_count": 10,
     "metadata": {},
     "output_type": "execute_result"
    }
   ],
   "source": [
    "a"
   ]
  },
  {
   "cell_type": "code",
   "execution_count": 16,
   "id": "a4528549",
   "metadata": {},
   "outputs": [
    {
     "data": {
      "text/plain": [
       "str"
      ]
     },
     "execution_count": 16,
     "metadata": {},
     "output_type": "execute_result"
    }
   ],
   "source": [
    "type(b)"
   ]
  },
  {
   "cell_type": "code",
   "execution_count": 15,
   "id": "8f314980",
   "metadata": {},
   "outputs": [],
   "source": [
    "b=\"aka\""
   ]
  },
  {
   "cell_type": "code",
   "execution_count": 17,
   "id": "2b04d17f",
   "metadata": {},
   "outputs": [
    {
     "data": {
      "text/plain": [
       "'aka'"
      ]
     },
     "execution_count": 17,
     "metadata": {},
     "output_type": "execute_result"
    }
   ],
   "source": [
    "b"
   ]
  },
  {
   "cell_type": "code",
   "execution_count": 19,
   "id": "589a4cdc",
   "metadata": {},
   "outputs": [
    {
     "name": "stdout",
     "output_type": "stream",
     "text": [
      "aka 10\n"
     ]
    }
   ],
   "source": [
    "print(b,a)"
   ]
  },
  {
   "cell_type": "code",
   "execution_count": 20,
   "id": "d449eea3",
   "metadata": {},
   "outputs": [],
   "source": [
    "a, b= \"str\", 10"
   ]
  },
  {
   "cell_type": "code",
   "execution_count": 21,
   "id": "41d4d5db",
   "metadata": {},
   "outputs": [
    {
     "data": {
      "text/plain": [
       "'str'"
      ]
     },
     "execution_count": 21,
     "metadata": {},
     "output_type": "execute_result"
    }
   ],
   "source": [
    "a"
   ]
  },
  {
   "cell_type": "code",
   "execution_count": 22,
   "id": "d5c3bbda",
   "metadata": {},
   "outputs": [
    {
     "data": {
      "text/plain": [
       "('str', 10)"
      ]
     },
     "execution_count": 22,
     "metadata": {},
     "output_type": "execute_result"
    }
   ],
   "source": [
    "a,b"
   ]
  },
  {
   "cell_type": "code",
   "execution_count": 23,
   "id": "38350471",
   "metadata": {},
   "outputs": [
    {
     "name": "stdout",
     "output_type": "stream",
     "text": [
      "str 10\n"
     ]
    }
   ],
   "source": [
    "print(a,b)"
   ]
  },
  {
   "cell_type": "code",
   "execution_count": 27,
   "id": "5b4f1ff0",
   "metadata": {},
   "outputs": [],
   "source": [
    "a='\"abc\"'"
   ]
  },
  {
   "cell_type": "code",
   "execution_count": 25,
   "id": "660f8e0f",
   "metadata": {},
   "outputs": [
    {
     "data": {
      "text/plain": [
       "\"'abc'\""
      ]
     },
     "execution_count": 25,
     "metadata": {},
     "output_type": "execute_result"
    }
   ],
   "source": [
    "a"
   ]
  },
  {
   "cell_type": "code",
   "execution_count": 28,
   "id": "43b6f4a6",
   "metadata": {},
   "outputs": [
    {
     "name": "stdout",
     "output_type": "stream",
     "text": [
      "\"abc\"\n"
     ]
    }
   ],
   "source": [
    "print(a)"
   ]
  },
  {
   "cell_type": "code",
   "execution_count": 30,
   "id": "837bf564",
   "metadata": {},
   "outputs": [
    {
     "data": {
      "text/plain": [
       "'1akas'"
      ]
     },
     "execution_count": 30,
     "metadata": {},
     "output_type": "execute_result"
    }
   ],
   "source": [
    "\"1\"+\"akas\""
   ]
  },
  {
   "cell_type": "code",
   "execution_count": 45,
   "id": "2835f35c",
   "metadata": {},
   "outputs": [
    {
     "name": "stdout",
     "output_type": "stream",
     "text": [
      "enter a var a 10\n",
      "enter a var b10\n",
      "enter a var c5\n"
     ]
    }
   ],
   "source": [
    "a=int(input('enter a var a '))\n",
    "b=int(input('enter a var b'))\n",
    "\n",
    "c=int(input('enter a var c'))\n"
   ]
  },
  {
   "cell_type": "code",
   "execution_count": 60,
   "id": "40ad04e7",
   "metadata": {},
   "outputs": [],
   "source": [
    "o=(a+b)/c"
   ]
  },
  {
   "cell_type": "code",
   "execution_count": 63,
   "id": "a8922ed7",
   "metadata": {},
   "outputs": [],
   "source": [
    "o1=o+6+7j"
   ]
  },
  {
   "cell_type": "code",
   "execution_count": 65,
   "id": "adaae344",
   "metadata": {},
   "outputs": [
    {
     "data": {
      "text/plain": [
       "complex"
      ]
     },
     "execution_count": 65,
     "metadata": {},
     "output_type": "execute_result"
    }
   ],
   "source": [
    "type(o1)"
   ]
  },
  {
   "cell_type": "code",
   "execution_count": 66,
   "id": "1da4155b",
   "metadata": {},
   "outputs": [
    {
     "data": {
      "text/plain": [
       "(10+7j)"
      ]
     },
     "execution_count": 66,
     "metadata": {},
     "output_type": "execute_result"
    }
   ],
   "source": [
    "o1"
   ]
  },
  {
   "cell_type": "code",
   "execution_count": 68,
   "id": "4bce7d29",
   "metadata": {},
   "outputs": [
    {
     "data": {
      "text/plain": [
       "'(10+7j)akash'"
      ]
     },
     "execution_count": 68,
     "metadata": {},
     "output_type": "execute_result"
    }
   ],
   "source": [
    "str(o1)+'akash'"
   ]
  },
  {
   "cell_type": "code",
   "execution_count": 74,
   "id": "07965d83",
   "metadata": {},
   "outputs": [
    {
     "name": "stdout",
     "output_type": "stream",
     "text": [
      "enter a number46\n",
      "what is this \n"
     ]
    }
   ],
   "source": [
    "a=int(input(\"enter a number\"))\n",
    "if a>45:\n",
    "    print(\"what is this \")\n",
    "else:\n",
    "    print(\"this is not greater than 45\")"
   ]
  },
  {
   "cell_type": "code",
   "execution_count": 91,
   "id": "d5b5a576",
   "metadata": {},
   "outputs": [
    {
     "name": "stdout",
     "output_type": "stream",
     "text": [
      "enter the value of a 10\n",
      "enter the value of b 21\n",
      "wow\n"
     ]
    }
   ],
   "source": [
    "a=int(input(\"enter the value of a \"))\n",
    "b=int(input(\"enter the value of b \"))\n",
    "if a==10 and b>20:\n",
    "    print(\"wow\")\n",
    "elif a==10 and b<=20:\n",
    "    print(\"this condition is under elif\")\n",
    "else:\n",
    "    print(\"this condition is under else\")"
   ]
  },
  {
   "cell_type": "code",
   "execution_count": 83,
   "id": "10ff4d9b",
   "metadata": {},
   "outputs": [
    {
     "data": {
      "text/plain": [
       "True"
      ]
     },
     "execution_count": 83,
     "metadata": {},
     "output_type": "execute_result"
    }
   ],
   "source": [
    "a==10 or b==2"
   ]
  },
  {
   "cell_type": "code",
   "execution_count": 107,
   "id": "135c7a2d",
   "metadata": {},
   "outputs": [
    {
     "name": "stdout",
     "output_type": "stream",
     "text": [
      "enter your first nameakash\n",
      "enter your last namekumar\n",
      "your name is correct\n"
     ]
    }
   ],
   "source": [
    "a=input(\"enter your first name\")\n",
    "b=input(\"enter your last name\")\n",
    "if a==\"akash\" and b==\"kumar\":\n",
    "    print(\"your name is correct\")\n",
    "else:\n",
    "    print(\"enter your correct name\")"
   ]
  },
  {
   "cell_type": "code",
   "execution_count": 111,
   "id": "8e2de033",
   "metadata": {},
   "outputs": [
    {
     "name": "stdout",
     "output_type": "stream",
     "text": [
      "how are you\n",
      "how are you\n",
      "how are you\n",
      "how are you\n",
      "how are you\n",
      "how are you\n",
      "how are you\n",
      "how are you\n",
      "how are you\n",
      "how are you\n",
      "how are you\n"
     ]
    }
   ],
   "source": [
    "initial_speed=0\n",
    "final_speed=10\n",
    "while initial_speed <= final_speed:\n",
    "    print(\"how are you\")\n",
    "    initial_speed=initial_speed+1"
   ]
  },
  {
   "cell_type": "code",
   "execution_count": 2,
   "id": "c8c63056",
   "metadata": {},
   "outputs": [
    {
     "name": "stdout",
     "output_type": "stream",
     "text": [
      "1\n",
      "2\n",
      "3\n",
      "4\n",
      "process is complete\n"
     ]
    }
   ],
   "source": [
    "notes=5\n",
    "i=1\n",
    "while i<notes:\n",
    "    print(i)\n",
    "    i=i+1\n",
    "else:\n",
    "    print(\"process is complete\")"
   ]
  },
  {
   "cell_type": "code",
   "execution_count": 89,
   "id": "b46c380f",
   "metadata": {},
   "outputs": [],
   "source": [
    "a=\"akashkumar\""
   ]
  },
  {
   "cell_type": "code",
   "execution_count": 68,
   "id": "8bd7f224",
   "metadata": {},
   "outputs": [
    {
     "data": {
      "text/plain": [
       "'helloworld'"
      ]
     },
     "execution_count": 68,
     "metadata": {},
     "output_type": "execute_result"
    }
   ],
   "source": [
    "a\n"
   ]
  },
  {
   "cell_type": "code",
   "execution_count": 76,
   "id": "6f90e853",
   "metadata": {},
   "outputs": [
    {
     "name": "stdout",
     "output_type": "stream",
     "text": [
      "h\n",
      "e\n",
      "l\n",
      "l\n",
      "we are successful to findout o\n",
      "o\n",
      "w\n",
      "we are successful to findout o\n",
      "o\n",
      "r\n",
      "l\n",
      "d\n"
     ]
    }
   ],
   "source": [
    "for i in a:\n",
    "    if(i=='o'):\n",
    "        print(\"we are successful to findout o\")\n",
    "    print(i)"
   ]
  },
  {
   "cell_type": "code",
   "execution_count": 92,
   "id": "b26630e1",
   "metadata": {},
   "outputs": [
    {
     "name": "stdout",
     "output_type": "stream",
     "text": [
      "a\n",
      "k\n",
      "a\n",
      "s\n",
      "k\n",
      "u\n",
      "m\n",
      "a\n",
      "r\n",
      "else condition\n"
     ]
    }
   ],
   "source": [
    "for i in a:\n",
    "    if i==\"h\":\n",
    "        \n",
    "        continue\n",
    "    print(i)\n",
    "    \n",
    "else:\n",
    "    if i==\"o\":\n",
    "        print(\"d is meet\")\n",
    "    print(\"else condition\")"
   ]
  },
  {
   "cell_type": "code",
   "execution_count": 97,
   "id": "33ec4149",
   "metadata": {},
   "outputs": [],
   "source": [
    "s=\"helloworld\""
   ]
  },
  {
   "cell_type": "code",
   "execution_count": 98,
   "id": "67c08ff8",
   "metadata": {},
   "outputs": [
    {
     "data": {
      "text/plain": [
       "10"
      ]
     },
     "execution_count": 98,
     "metadata": {},
     "output_type": "execute_result"
    }
   ],
   "source": [
    "len(s)"
   ]
  },
  {
   "cell_type": "code",
   "execution_count": 117,
   "id": "64fbf546",
   "metadata": {},
   "outputs": [],
   "source": [
    "s=\"ineuron\"\n",
    "ss=\"\"\n",
    "for i in range(len(s)):\n",
    "    if s[i]==\"o\":\n",
    "        continue\n",
    "    else:\n",
    "        ss=ss+s[i]"
   ]
  },
  {
   "cell_type": "code",
   "execution_count": 118,
   "id": "b99e6c29",
   "metadata": {},
   "outputs": [
    {
     "data": {
      "text/plain": [
       "'ineuron'"
      ]
     },
     "execution_count": 118,
     "metadata": {},
     "output_type": "execute_result"
    }
   ],
   "source": [
    "s"
   ]
  },
  {
   "cell_type": "code",
   "execution_count": 119,
   "id": "50767978",
   "metadata": {},
   "outputs": [
    {
     "data": {
      "text/plain": [
       "'ineurn'"
      ]
     },
     "execution_count": 119,
     "metadata": {},
     "output_type": "execute_result"
    }
   ],
   "source": [
    "ss"
   ]
  },
  {
   "cell_type": "code",
   "execution_count": 141,
   "id": "9aed6616",
   "metadata": {},
   "outputs": [
    {
     "name": "stdout",
     "output_type": "stream",
     "text": [
      "********\r\n",
      "********\r\n",
      "********\r\n",
      "********\r\n",
      "********\r\n",
      "********\r\n",
      "********\r\n"
     ]
    }
   ],
   "source": [
    "n=7\n",
    "for i in range(0, n):\n",
    "    for j in range(0,n):\n",
    "        print(\"*\", end=\"\")\n",
    "    print(\"\\r\")"
   ]
  },
  {
   "cell_type": "code",
   "execution_count": 165,
   "id": "e0e46104",
   "metadata": {},
   "outputs": [
    {
     "name": "stdout",
     "output_type": "stream",
     "text": [
      "enter the width of pyramid you want4\n",
      " ****\n",
      "  **\n",
      "   \n",
      "    \n"
     ]
    }
   ],
   "source": [
    "n=int(input(\"enter the width of pyramid you want\"))\n",
    "for i in range(0, n):\n",
    "        print(\" \"*i,\"*\"*(n-i*2),end=\"\")\n",
    "        print(\"\\r\")"
   ]
  },
  {
   "cell_type": "code",
   "execution_count": 167,
   "id": "3afa4858",
   "metadata": {},
   "outputs": [
    {
     "name": "stdout",
     "output_type": "stream",
     "text": [
      "4\n",
      "3\n",
      "2\n",
      "1\n"
     ]
    }
   ],
   "source": [
    "n=4\n",
    "for i in range(n,0,-1):\n",
    "    print(i)"
   ]
  },
  {
   "cell_type": "code",
   "execution_count": 1,
   "id": "d9e2350e",
   "metadata": {},
   "outputs": [
    {
     "name": "stdout",
     "output_type": "stream",
     "text": [
      "enter the integer20\n",
      " ********************\n",
      "  ******************\n",
      "   ****************\n",
      "    **************\n",
      "     ************\n",
      "      **********\n",
      "       ********\n",
      "        ******\n",
      "         ****\n",
      "          **\n",
      "           \n",
      "            \n",
      "             \n",
      "              \n",
      "               \n",
      "                \n",
      "                 \n",
      "                  \n",
      "                   \n",
      "                    \n",
      "                     \n"
     ]
    }
   ],
   "source": [
    "n=int(input(\"enter the integer\"))\n",
    "i=0\n",
    "while i<=n:\n",
    "    print(\" \"*i ,\"*\"*(n-i*2), end=\"\")\n",
    "    i=i+1\n",
    "    print()"
   ]
  },
  {
   "cell_type": "code",
   "execution_count": 10,
   "id": "dfffd2c2",
   "metadata": {},
   "outputs": [
    {
     "name": "stdout",
     "output_type": "stream",
     "text": [
      "5\n",
      "6\n",
      "7\n",
      "8\n",
      "9\n",
      "10\n",
      "11\n",
      "12\n",
      "13\n",
      "14\n",
      "15\n",
      "16\n",
      "17\n",
      "18\n",
      "19\n"
     ]
    }
   ],
   "source": [
    "for i in range(5,20):\n",
    "    print(i)"
   ]
  },
  {
   "cell_type": "code",
   "execution_count": 39,
   "id": "57ad13fa",
   "metadata": {},
   "outputs": [
    {
     "name": "stdout",
     "output_type": "stream",
     "text": [
      "enter the number6\n",
      "***********\n",
      " *********\n",
      "  *******\n",
      "   *****\n",
      "    ***\n",
      "     *\n"
     ]
    }
   ],
   "source": [
    "n=int(input(\"enter the number\"))\n",
    "for i in range(n,0,-1):\n",
    "    for j in range(n-i):\n",
    "        print(\" \", end=\"\")\n",
    "    for j in range(2*i-1):\n",
    "        print(\"*\",end=\"\")\n",
    "    print()"
   ]
  },
  {
   "cell_type": "code",
   "execution_count": 22,
   "id": "05b99683",
   "metadata": {},
   "outputs": [],
   "source": [
    "l=[\"akas\",19, \"kumar\",True, 12+4j,[33,\"whly\"],13.45]"
   ]
  },
  {
   "cell_type": "code",
   "execution_count": 12,
   "id": "a7b71f5d",
   "metadata": {},
   "outputs": [
    {
     "data": {
      "text/plain": [
       "['akas', 19, 'kumar']"
      ]
     },
     "execution_count": 12,
     "metadata": {},
     "output_type": "execute_result"
    }
   ],
   "source": [
    "l"
   ]
  },
  {
   "cell_type": "code",
   "execution_count": 13,
   "id": "f8d732f8",
   "metadata": {},
   "outputs": [
    {
     "data": {
      "text/plain": [
       "'akas'"
      ]
     },
     "execution_count": 13,
     "metadata": {},
     "output_type": "execute_result"
    }
   ],
   "source": [
    "l[0]"
   ]
  },
  {
   "cell_type": "code",
   "execution_count": 23,
   "id": "ac44ab1c",
   "metadata": {},
   "outputs": [
    {
     "name": "stdout",
     "output_type": "stream",
     "text": [
      "<class 'str'>\n",
      "<class 'int'>\n",
      "<class 'str'>\n",
      "<class 'bool'>\n",
      "<class 'complex'>\n",
      "<class 'list'>\n",
      "<class 'float'>\n"
     ]
    }
   ],
   "source": [
    "for i in l:\n",
    "    print(type(i))"
   ]
  },
  {
   "cell_type": "code",
   "execution_count": 15,
   "id": "475e5fb4",
   "metadata": {},
   "outputs": [
    {
     "data": {
      "text/plain": [
       "type[['akas', 19, 'kumar']]"
      ]
     },
     "execution_count": 15,
     "metadata": {},
     "output_type": "execute_result"
    }
   ],
   "source": [
    "type[l]"
   ]
  },
  {
   "cell_type": "code",
   "execution_count": 33,
   "id": "f385c92c",
   "metadata": {},
   "outputs": [
    {
     "data": {
      "text/plain": [
       "[13.45, [33, 'whly'], (12+4j), True, 'kumar', 19]"
      ]
     },
     "execution_count": 33,
     "metadata": {},
     "output_type": "execute_result"
    }
   ],
   "source": [
    "l[6:0:-1]"
   ]
  },
  {
   "cell_type": "code",
   "execution_count": 40,
   "id": "f2088a7b",
   "metadata": {},
   "outputs": [],
   "source": [
    "a=\"how to write a admin panel code in php\""
   ]
  },
  {
   "cell_type": "code",
   "execution_count": 41,
   "id": "9666ed7c",
   "metadata": {},
   "outputs": [
    {
     "data": {
      "text/plain": [
       "'o'"
      ]
     },
     "execution_count": 41,
     "metadata": {},
     "output_type": "execute_result"
    }
   ],
   "source": [
    "a[1]"
   ]
  },
  {
   "cell_type": "code",
   "execution_count": 42,
   "id": "73e95396",
   "metadata": {},
   "outputs": [
    {
     "data": {
      "text/plain": [
       "'p'"
      ]
     },
     "execution_count": 42,
     "metadata": {},
     "output_type": "execute_result"
    }
   ],
   "source": [
    "a[-1]"
   ]
  },
  {
   "cell_type": "code",
   "execution_count": 44,
   "id": "c0c8410e",
   "metadata": {},
   "outputs": [
    {
     "name": "stdout",
     "output_type": "stream",
     "text": [
      "how to write a admin panel code in php"
     ]
    }
   ],
   "source": [
    "for i in a:\n",
    "    print(i, end=\"\")"
   ]
  },
  {
   "cell_type": "code",
   "execution_count": 31,
   "id": "6a1ef144",
   "metadata": {},
   "outputs": [],
   "source": [
    "s=\"my name is python \""
   ]
  },
  {
   "cell_type": "code",
   "execution_count": 2,
   "id": "7f0dc78a",
   "metadata": {},
   "outputs": [
    {
     "data": {
      "text/plain": [
       "11"
      ]
     },
     "execution_count": 2,
     "metadata": {},
     "output_type": "execute_result"
    }
   ],
   "source": [
    "len(s)"
   ]
  },
  {
   "cell_type": "code",
   "execution_count": 20,
   "id": "9597c8c6",
   "metadata": {},
   "outputs": [
    {
     "ename": "TypeError",
     "evalue": "'str' object does not support item assignment",
     "output_type": "error",
     "traceback": [
      "\u001b[1;31m---------------------------------------------------------------------------\u001b[0m",
      "\u001b[1;31mTypeError\u001b[0m                                 Traceback (most recent call last)",
      "\u001b[1;32m~\\AppData\\Local\\Temp\\ipykernel_11648\\524452923.py\u001b[0m in \u001b[0;36m<module>\u001b[1;34m\u001b[0m\n\u001b[1;32m----> 1\u001b[1;33m \u001b[0ms\u001b[0m\u001b[1;33m[\u001b[0m\u001b[1;36m0\u001b[0m\u001b[1;33m]\u001b[0m\u001b[1;33m=\u001b[0m\u001b[1;34m\"x\"\u001b[0m\u001b[1;33m\u001b[0m\u001b[1;33m\u001b[0m\u001b[0m\n\u001b[0m",
      "\u001b[1;31mTypeError\u001b[0m: 'str' object does not support item assignment"
     ]
    }
   ],
   "source": [
    "s[0]=\"x\""
   ]
  },
  {
   "cell_type": "code",
   "execution_count": 8,
   "id": "3516ee5d",
   "metadata": {},
   "outputs": [
    {
     "data": {
      "text/plain": [
       "'enog dah ew'"
      ]
     },
     "execution_count": 8,
     "metadata": {},
     "output_type": "execute_result"
    }
   ],
   "source": [
    "s[-1:-12:-1]"
   ]
  },
  {
   "cell_type": "code",
   "execution_count": 12,
   "id": "0ec2365f",
   "metadata": {},
   "outputs": [
    {
     "name": "stdout",
     "output_type": "stream",
     "text": [
      "enog dah ew"
     ]
    }
   ],
   "source": [
    "for i in s[-1:-12:-1]:\n",
    "    print(i,end=\"\")"
   ]
  },
  {
   "cell_type": "code",
   "execution_count": 13,
   "id": "b58ce255",
   "metadata": {},
   "outputs": [
    {
     "data": {
      "text/plain": [
       "'we had gone'"
      ]
     },
     "execution_count": 13,
     "metadata": {},
     "output_type": "execute_result"
    }
   ],
   "source": [
    "s[::1]"
   ]
  },
  {
   "cell_type": "code",
   "execution_count": 14,
   "id": "a2498655",
   "metadata": {},
   "outputs": [],
   "source": [
    "l=[\"PHP\",23, 33.32, True]"
   ]
  },
  {
   "cell_type": "code",
   "execution_count": 15,
   "id": "eaab92e3",
   "metadata": {},
   "outputs": [
    {
     "data": {
      "text/plain": [
       "['PHP', 23, 33.32, True]"
      ]
     },
     "execution_count": 15,
     "metadata": {},
     "output_type": "execute_result"
    }
   ],
   "source": [
    "l"
   ]
  },
  {
   "cell_type": "code",
   "execution_count": 17,
   "id": "0c824166",
   "metadata": {},
   "outputs": [],
   "source": [
    "l[0]=\"kumar\""
   ]
  },
  {
   "cell_type": "code",
   "execution_count": 18,
   "id": "73ff035b",
   "metadata": {},
   "outputs": [
    {
     "data": {
      "text/plain": [
       "['kumar', 23, 33.32, True]"
      ]
     },
     "execution_count": 18,
     "metadata": {},
     "output_type": "execute_result"
    }
   ],
   "source": [
    "l"
   ]
  },
  {
   "cell_type": "code",
   "execution_count": 27,
   "id": "e0836b12",
   "metadata": {},
   "outputs": [
    {
     "ename": "TypeError",
     "evalue": "must be str, not list",
     "output_type": "error",
     "traceback": [
      "\u001b[1;31m---------------------------------------------------------------------------\u001b[0m",
      "\u001b[1;31mTypeError\u001b[0m                                 Traceback (most recent call last)",
      "\u001b[1;32m~\\AppData\\Local\\Temp\\ipykernel_11648\\2486360836.py\u001b[0m in \u001b[0;36m<module>\u001b[1;34m\u001b[0m\n\u001b[1;32m----> 1\u001b[1;33m \u001b[0ms\u001b[0m\u001b[1;33m.\u001b[0m\u001b[0mfind\u001b[0m\u001b[1;33m(\u001b[0m\u001b[1;33m[\u001b[0m\u001b[1;34m\"h\"\u001b[0m\u001b[1;33m,\u001b[0m\u001b[1;34m\"n\"\u001b[0m\u001b[1;33m]\u001b[0m\u001b[1;33m)\u001b[0m\u001b[1;33m\u001b[0m\u001b[1;33m\u001b[0m\u001b[0m\n\u001b[0m",
      "\u001b[1;31mTypeError\u001b[0m: must be str, not list"
     ]
    }
   ],
   "source": [
    "s.find([\"h\",\"n\"])"
   ]
  },
  {
   "cell_type": "code",
   "execution_count": 36,
   "id": "2c87767f",
   "metadata": {},
   "outputs": [
    {
     "name": "stdout",
     "output_type": "stream",
     "text": [
      "3\n",
      "4\n",
      "5\n",
      "6\n"
     ]
    }
   ],
   "source": [
    "x=s.find(\"name\")\n",
    "for i in range(len(\"name\")):\n",
    "    print(x+i)"
   ]
  },
  {
   "cell_type": "code",
   "execution_count": 39,
   "id": "665934b6",
   "metadata": {},
   "outputs": [
    {
     "data": {
      "text/plain": [
       "['', 'y na', 'e is python ']"
      ]
     },
     "execution_count": 39,
     "metadata": {},
     "output_type": "execute_result"
    }
   ],
   "source": [
    "s.split(\"m\")"
   ]
  },
  {
   "cell_type": "code",
   "execution_count": 40,
   "id": "7162bd02",
   "metadata": {},
   "outputs": [
    {
     "data": {
      "text/plain": [
       "'m*y* *n*a*m*e* *i*s* *p*y*t*h*o*n* '"
      ]
     },
     "execution_count": 40,
     "metadata": {},
     "output_type": "execute_result"
    }
   ],
   "source": [
    "\"*\".join(s)"
   ]
  },
  {
   "cell_type": "code",
   "execution_count": 41,
   "id": "24f1d53f",
   "metadata": {},
   "outputs": [
    {
     "data": {
      "text/plain": [
       "' nohtyp si eman ym'"
      ]
     },
     "execution_count": 41,
     "metadata": {},
     "output_type": "execute_result"
    }
   ],
   "source": [
    "s[::-1]"
   ]
  },
  {
   "cell_type": "code",
   "execution_count": 12,
   "id": "536f9b92",
   "metadata": {},
   "outputs": [
    {
     "data": {
      "text/plain": [
       "['P',\n",
       " 'H',\n",
       " 'P',\n",
       " ' ',\n",
       " 'f',\n",
       " 'o',\n",
       " ' ',\n",
       " 'm',\n",
       " 'r',\n",
       " 'o',\n",
       " 'f',\n",
       " ' ',\n",
       " 'l',\n",
       " 'l',\n",
       " 'u',\n",
       " 'f',\n",
       " ' ',\n",
       " 'e',\n",
       " 'h',\n",
       " 't',\n",
       " ' ',\n",
       " 's',\n",
       " 'i',\n",
       " ' ',\n",
       " 't',\n",
       " 'a',\n",
       " 'h',\n",
       " 'w']"
      ]
     },
     "execution_count": 12,
     "metadata": {},
     "output_type": "execute_result"
    }
   ],
   "source": [
    "s=\"what is the full form of PHP\"\n",
    "list(reversed(s))"
   ]
  },
  {
   "cell_type": "code",
   "execution_count": 5,
   "id": "f261f306",
   "metadata": {},
   "outputs": [
    {
     "name": "stdout",
     "output_type": "stream",
     "text": [
      "P\n",
      "H\n",
      "P\n",
      " \n",
      "f\n",
      "o\n",
      " \n",
      "m\n",
      "r\n",
      "o\n",
      "f\n",
      " \n",
      "l\n",
      "l\n",
      "u\n",
      "f\n",
      " \n",
      "e\n",
      "h\n",
      "t\n",
      " \n",
      "s\n",
      "i\n",
      " \n",
      "t\n",
      "a\n",
      "h\n",
      "w\n"
     ]
    }
   ],
   "source": [
    "for i in reversed(s):\n",
    "    print(i)\n",
    "    "
   ]
  },
  {
   "cell_type": "code",
   "execution_count": 10,
   "id": "0958561d",
   "metadata": {},
   "outputs": [
    {
     "data": {
      "text/plain": [
       "'what is the full f*rm *f PHP'"
      ]
     },
     "execution_count": 10,
     "metadata": {},
     "output_type": "execute_result"
    }
   ],
   "source": [
    "s.replace('o','*')"
   ]
  },
  {
   "cell_type": "code",
   "execution_count": 13,
   "id": "a59f2b53",
   "metadata": {},
   "outputs": [
    {
     "data": {
      "text/plain": [
       "'what is the full form of PHP'"
      ]
     },
     "execution_count": 13,
     "metadata": {},
     "output_type": "execute_result"
    }
   ],
   "source": [
    "s"
   ]
  },
  {
   "cell_type": "code",
   "execution_count": 14,
   "id": "4613eaad",
   "metadata": {},
   "outputs": [],
   "source": [
    "a=\"we all are a part of Full Stack\""
   ]
  },
  {
   "cell_type": "code",
   "execution_count": 16,
   "id": "8b694a8d",
   "metadata": {},
   "outputs": [
    {
     "data": {
      "text/plain": [
       "'we all are a part of full stack'"
      ]
     },
     "execution_count": 16,
     "metadata": {},
     "output_type": "execute_result"
    }
   ],
   "source": [
    "a.lower()"
   ]
  },
  {
   "cell_type": "code",
   "execution_count": 17,
   "id": "387d29c8",
   "metadata": {},
   "outputs": [
    {
     "data": {
      "text/plain": [
       "5"
      ]
     },
     "execution_count": 17,
     "metadata": {},
     "output_type": "execute_result"
    }
   ],
   "source": [
    "a.count(\"a\")"
   ]
  },
  {
   "cell_type": "code",
   "execution_count": 24,
   "id": "4c4a23c5",
   "metadata": {},
   "outputs": [
    {
     "name": "stdout",
     "output_type": "stream",
     "text": [
      "3\n",
      "7\n",
      "11\n",
      "14\n",
      "28\n"
     ]
    }
   ],
   "source": [
    "for i in range(len(a)):\n",
    "    if (a[i]=='a'):\n",
    "        print(i)"
   ]
  },
  {
   "cell_type": "code",
   "execution_count": 21,
   "id": "71aa221c",
   "metadata": {},
   "outputs": [
    {
     "data": {
      "text/plain": [
       "'we ineuronll ineuronre ineuron pineuronrt of Full Stineuronck'"
      ]
     },
     "execution_count": 21,
     "metadata": {},
     "output_type": "execute_result"
    }
   ],
   "source": [
    "a.replace(\"a\",\"ineuron\")"
   ]
  },
  {
   "cell_type": "code",
   "execution_count": 26,
   "id": "d370d578",
   "metadata": {},
   "outputs": [
    {
     "data": {
      "text/plain": [
       "['we', 'all', 'are', 'a', 'part', 'of', 'Full', 'Stack']"
      ]
     },
     "execution_count": 26,
     "metadata": {},
     "output_type": "execute_result"
    }
   ],
   "source": [
    "a.split()"
   ]
  },
  {
   "cell_type": "code",
   "execution_count": 27,
   "id": "62341fe1",
   "metadata": {},
   "outputs": [],
   "source": [
    "s=\"what\""
   ]
  },
  {
   "cell_type": "code",
   "execution_count": 31,
   "id": "8c8f712e",
   "metadata": {},
   "outputs": [
    {
     "data": {
      "text/plain": [
       "False"
      ]
     },
     "execution_count": 31,
     "metadata": {},
     "output_type": "execute_result"
    }
   ],
   "source": [
    "s.isupper()"
   ]
  },
  {
   "cell_type": "code",
   "execution_count": 32,
   "id": "20e89222",
   "metadata": {},
   "outputs": [
    {
     "data": {
      "text/plain": [
       "True"
      ]
     },
     "execution_count": 32,
     "metadata": {},
     "output_type": "execute_result"
    }
   ],
   "source": [
    "s.islower()"
   ]
  },
  {
   "cell_type": "code",
   "execution_count": 33,
   "id": "998fb6bc",
   "metadata": {},
   "outputs": [
    {
     "data": {
      "text/plain": [
       "False"
      ]
     },
     "execution_count": 33,
     "metadata": {},
     "output_type": "execute_result"
    }
   ],
   "source": [
    "s.isspace()"
   ]
  },
  {
   "cell_type": "code",
   "execution_count": 38,
   "id": "9560fa33",
   "metadata": {},
   "outputs": [
    {
     "name": "stdout",
     "output_type": "stream",
     "text": [
      "k\n",
      "c\n",
      "a\n",
      "t\n",
      "S\n",
      " \n",
      "l\n",
      "l\n",
      "u\n",
      "F\n",
      " \n",
      "f\n",
      "o\n",
      " \n",
      "t\n",
      "r\n",
      "a\n",
      "p\n",
      " \n",
      "a\n",
      " \n",
      "e\n",
      "r\n",
      "a\n",
      " \n",
      "l\n",
      "l\n",
      "a\n",
      " \n",
      "e\n"
     ]
    }
   ],
   "source": [
    "for i in range(1, len(a)):\n",
    "    print(a[-i])"
   ]
  },
  {
   "cell_type": "code",
   "execution_count": 6,
   "id": "37d667b9",
   "metadata": {},
   "outputs": [
    {
     "name": "stdout",
     "output_type": "stream",
     "text": [
      "t\n",
      "a\n",
      "h\n",
      "w\n"
     ]
    }
   ],
   "source": [
    "s=\"what\"\n",
    "a=len(s)-1\n",
    "while a>=0:\n",
    "    print(s[a])\n",
    "    a=a-1"
   ]
  },
  {
   "cell_type": "code",
   "execution_count": 12,
   "id": "ecb68391",
   "metadata": {},
   "outputs": [
    {
     "name": "stdout",
     "output_type": "stream",
     "text": [
      "0\n",
      "1\n",
      "2\n",
      "3\n"
     ]
    }
   ],
   "source": [
    "for i in range(len(s)):\n",
    "    print()"
   ]
  },
  {
   "cell_type": "code",
   "execution_count": 25,
   "id": "b7515d33",
   "metadata": {},
   "outputs": [
    {
     "name": "stdout",
     "output_type": "stream",
     "text": [
      "s  this is a consonant\n",
      "t  this is a consonant\n",
      "a  this is a vowel\n",
      "c  this is a consonant\n",
      "k  this is a consonant\n",
      "o  this is a vowel\n",
      "v  this is a consonant\n",
      "e  this is a vowel\n",
      "r  this is a consonant\n",
      "f  this is a consonant\n",
      "l  this is a consonant\n",
      "o  this is a vowel\n",
      "w  this is a consonant\n"
     ]
    }
   ],
   "source": [
    "name=\"stackoverflow\"\n",
    "vowels=\"aAeEiIoOuU\"\n",
    "for i in name:\n",
    "    if i in vowels:\n",
    "        print(\"{}  this is a vowel\".format(i))\n",
    "    else:\n",
    "        print(\"{}  this is a consonant\".format(i))"
   ]
  },
  {
   "cell_type": "code",
   "execution_count": 27,
   "id": "42f83659",
   "metadata": {},
   "outputs": [
    {
     "name": "stdout",
     "output_type": "stream",
     "text": [
      "fill up the form whhat\n",
      "fill up the second form forrrm\n"
     ]
    },
    {
     "data": {
      "text/plain": [
       "'whhat is the full forrrm of FREE'"
      ]
     },
     "execution_count": 27,
     "metadata": {},
     "output_type": "execute_result"
    }
   ],
   "source": [
    "a=input(\"fill up the form \")\n",
    "b=input(\"fill up the second form \")\n",
    "\"{} is the full {} of FREE\".format(a,b)"
   ]
  },
  {
   "cell_type": "code",
   "execution_count": 37,
   "id": "1f762b79",
   "metadata": {},
   "outputs": [
    {
     "name": "stdout",
     "output_type": "stream",
     "text": [
      "o\n",
      "t\n",
      " \n",
      "w\n",
      "o\n",
      "h\n"
     ]
    }
   ],
   "source": [
    "s=\"how to\"\n",
    "for i in range(1,len(s)+1):\n",
    "    print(s[-i])"
   ]
  },
  {
   "cell_type": "code",
   "execution_count": 34,
   "id": "4a1c4f24",
   "metadata": {},
   "outputs": [
    {
     "name": "stdout",
     "output_type": "stream",
     "text": [
      "1\n",
      "2\n",
      "3\n",
      "4\n",
      "5\n",
      "6\n"
     ]
    }
   ],
   "source": [
    "for i in range(1,len(s)+1):\n",
    "    print(i)"
   ]
  },
  {
   "cell_type": "code",
   "execution_count": 9,
   "id": "db58f644",
   "metadata": {},
   "outputs": [
    {
     "name": "stdout",
     "output_type": "stream",
     "text": [
      "Enter a data for which you would like to check palindromemom\n",
      "mom this is palindrome\n"
     ]
    }
   ],
   "source": [
    "x=input(\"Enter a data for which you would like to check palindrome\")\n",
    "s=x[::-1]\n",
    "if x==s:\n",
    "    print(\"{} this is palindrome\".format(x))\n",
    "else:\n",
    "    print(\"{} this is not palindrome\".format(x))\n",
    "    "
   ]
  },
  {
   "cell_type": "code",
   "execution_count": 19,
   "id": "9b52c336",
   "metadata": {},
   "outputs": [],
   "source": [
    "l=['akas']\n",
    "\n",
    "s=['aka',\"kr\", 33, 33, 22 , 33.34]"
   ]
  },
  {
   "cell_type": "code",
   "execution_count": 20,
   "id": "af9ddc7f",
   "metadata": {},
   "outputs": [
    {
     "data": {
      "text/plain": [
       "['aka', 'kr', 33, 33, 22, 33.34, 'akas']"
      ]
     },
     "execution_count": 20,
     "metadata": {},
     "output_type": "execute_result"
    }
   ],
   "source": [
    "s+l"
   ]
  },
  {
   "cell_type": "code",
   "execution_count": 21,
   "id": "e11627e9",
   "metadata": {},
   "outputs": [
    {
     "data": {
      "text/plain": [
       "6"
      ]
     },
     "execution_count": 21,
     "metadata": {},
     "output_type": "execute_result"
    }
   ],
   "source": [
    "len(s)"
   ]
  },
  {
   "cell_type": "code",
   "execution_count": 23,
   "id": "fba7cd2b",
   "metadata": {},
   "outputs": [
    {
     "data": {
      "text/plain": [
       "True"
      ]
     },
     "execution_count": 23,
     "metadata": {},
     "output_type": "execute_result"
    }
   ],
   "source": [
    "'aka' in s"
   ]
  },
  {
   "cell_type": "code",
   "execution_count": null,
   "id": "a34a0d8e",
   "metadata": {},
   "outputs": [],
   "source": []
  }
 ],
 "metadata": {
  "kernelspec": {
   "display_name": "Python 3 (ipykernel)",
   "language": "python",
   "name": "python3"
  },
  "language_info": {
   "codemirror_mode": {
    "name": "ipython",
    "version": 3
   },
   "file_extension": ".py",
   "mimetype": "text/x-python",
   "name": "python",
   "nbconvert_exporter": "python",
   "pygments_lexer": "ipython3",
   "version": "3.9.13"
  }
 },
 "nbformat": 4,
 "nbformat_minor": 5
}
